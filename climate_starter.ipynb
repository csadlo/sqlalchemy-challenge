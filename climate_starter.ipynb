{
 "cells": [
  {
   "cell_type": "code",
   "execution_count": 1,
   "metadata": {},
   "outputs": [],
   "source": [
    "%matplotlib inline\n",
    "from matplotlib import style\n",
    "style.use('fivethirtyeight')\n",
    "import matplotlib.pyplot as plt\n",
    "import matplotlib.dates as mdates"
   ]
  },
  {
   "cell_type": "code",
   "execution_count": 2,
   "metadata": {},
   "outputs": [],
   "source": [
    "import numpy as np\n",
    "import pandas as pd"
   ]
  },
  {
   "cell_type": "code",
   "execution_count": 3,
   "metadata": {},
   "outputs": [],
   "source": [
    "import datetime as dt"
   ]
  },
  {
   "cell_type": "markdown",
   "metadata": {},
   "source": [
    "# Reflect Tables into SQLAlchemy ORM"
   ]
  },
  {
   "cell_type": "code",
   "execution_count": 4,
   "metadata": {},
   "outputs": [],
   "source": [
    "# Python SQL toolkit and Object Relational Mapper\n",
    "import sqlalchemy\n",
    "from sqlalchemy.ext.automap import automap_base\n",
    "from sqlalchemy.orm import Session\n",
    "from sqlalchemy import create_engine, func, inspect"
   ]
  },
  {
   "cell_type": "code",
   "execution_count": 5,
   "metadata": {},
   "outputs": [],
   "source": [
    "engine = create_engine(\"sqlite:///Resources/hawaii.sqlite\")"
   ]
  },
  {
   "cell_type": "code",
   "execution_count": 6,
   "metadata": {},
   "outputs": [
    {
     "data": {
      "text/plain": [
       "['measurement', 'station']"
      ]
     },
     "execution_count": 6,
     "metadata": {},
     "output_type": "execute_result"
    }
   ],
   "source": [
    "connection = engine.connect()\n",
    "\n",
    "inspector = inspect(engine)\n",
    "inspector.get_table_names()"
   ]
  },
  {
   "cell_type": "code",
   "execution_count": 7,
   "metadata": {},
   "outputs": [],
   "source": [
    "# reflect an existing database into a new model\n",
    "Base = automap_base()\n",
    "\n",
    "# reflect the tables\n",
    "Base.prepare(engine, reflect=True)"
   ]
  },
  {
   "cell_type": "code",
   "execution_count": 8,
   "metadata": {},
   "outputs": [
    {
     "data": {
      "text/plain": [
       "['measurement', 'station']"
      ]
     },
     "execution_count": 8,
     "metadata": {},
     "output_type": "execute_result"
    }
   ],
   "source": [
    "# We can view all of the classes that automap found\n",
    "Base.classes.keys()"
   ]
  },
  {
   "cell_type": "code",
   "execution_count": 9,
   "metadata": {},
   "outputs": [],
   "source": [
    "# Save references to each table\n",
    "Measurement = Base.classes.measurement\n",
    "Station = Base.classes.station"
   ]
  },
  {
   "cell_type": "code",
   "execution_count": 10,
   "metadata": {},
   "outputs": [],
   "source": [
    "# Create our session (link) from Python to the DB\n",
    "session = Session(engine)"
   ]
  },
  {
   "cell_type": "code",
   "execution_count": 11,
   "metadata": {},
   "outputs": [
    {
     "data": {
      "text/plain": [
       "{'_sa_instance_state': <sqlalchemy.orm.state.InstanceState at 0x2336ecc2278>,\n",
       " 'tobs': 65.0,\n",
       " 'date': '2010-01-01',\n",
       " 'id': 1,\n",
       " 'prcp': 0.08,\n",
       " 'station': 'USC00519397'}"
      ]
     },
     "execution_count": 11,
     "metadata": {},
     "output_type": "execute_result"
    }
   ],
   "source": [
    "first_row = session.query(Measurement).first()\n",
    "first_row.__dict__\n",
    "\n",
    "# Lists out the column names for the measurement table\n",
    "#columns = inspector.get_columns('measurement')\n",
    "#for column in columns:\n",
    "#    print(column[\"name\"], column[\"type\"])\n",
    "\n",
    "# Counts the number of entries\n",
    "#session.query(func.count(Measurement.date)).all()"
   ]
  },
  {
   "cell_type": "code",
   "execution_count": 12,
   "metadata": {},
   "outputs": [
    {
     "data": {
      "text/plain": [
       "{'_sa_instance_state': <sqlalchemy.orm.state.InstanceState at 0x2336ecc2a20>,\n",
       " 'longitude': -157.8168,\n",
       " 'name': 'WAIKIKI 717.2, HI US',\n",
       " 'id': 1,\n",
       " 'elevation': 3.0,\n",
       " 'latitude': 21.2716,\n",
       " 'station': 'USC00519397'}"
      ]
     },
     "execution_count": 12,
     "metadata": {},
     "output_type": "execute_result"
    }
   ],
   "source": [
    "first_row = session.query(Station).first()\n",
    "first_row.__dict__"
   ]
  },
  {
   "cell_type": "markdown",
   "metadata": {},
   "source": [
    "# Exploratory Climate Analysis"
   ]
  },
  {
   "cell_type": "code",
   "execution_count": 13,
   "metadata": {},
   "outputs": [
    {
     "data": {
      "text/plain": [
       "(2230, 3)"
      ]
     },
     "execution_count": 13,
     "metadata": {},
     "output_type": "execute_result"
    }
   ],
   "source": [
    "# Design a query to retrieve the last 12 months of precipitation data and plot the results\n",
    "\n",
    "# Calculate the date 1 year ago from the last data point in the database\n",
    "most_recent = session.query(Measurement.date).order_by(Measurement.date.desc()).first()\n",
    "most_recent_dt = pd.to_datetime(most_recent, format='%Y-%m-%d')\n",
    "year_ago_dt = most_recent_dt - dt.timedelta(days=365)\n",
    "type(year_ago_dt)\n",
    "save = year_ago_dt.strftime(date_format='%Y-%m-%d')\n",
    "year_ago_dt.strftime('%Y-%m-%d')\n",
    "\n",
    "temp = year_ago_dt[0].date()\n",
    "\n",
    "\n",
    "# Perform a query to retrieve the data and precipitation scores\n",
    "one_year_measurement_data = session.query(Measurement.prcp,Measurement.date,Measurement.station).filter(Measurement.date >= temp).all()\n",
    "one_year_measurement_data\n",
    "\n",
    "# Save the query results as a Pandas DataFrame and set the index to the date column\n",
    "precipitation_df = pd.DataFrame(one_year_measurement_data)\n",
    "precipitation_df.set_index('date', inplace=True, drop=False)\n",
    "\n",
    "# Sort the dataframe by date\n",
    "precipitation_df.sort_index().head(15)\n",
    "\n",
    "precipitation_df.shape\n",
    "\n",
    "\n",
    "\n"
   ]
  },
  {
   "cell_type": "code",
   "execution_count": 14,
   "metadata": {},
   "outputs": [
    {
     "data": {
      "text/plain": [
       "(2021, 3)"
      ]
     },
     "execution_count": 14,
     "metadata": {},
     "output_type": "execute_result"
    }
   ],
   "source": [
    "prep_df = precipitation_df.dropna(subset=[\"prcp\"])\n",
    "prep_df.shape\n",
    "\n",
    "is_NaN = precipitation_df.isnull()\n",
    "row_has_NaN = is_NaN.any(axis=1)\n",
    "rows_with_NaN = precipitation_df[row_has_NaN]\n",
    "\n",
    "rows_with_NaN\n",
    "\n",
    "prep_df.shape"
   ]
  },
  {
   "cell_type": "code",
   "execution_count": 15,
   "metadata": {},
   "outputs": [
    {
     "data": {
      "image/png": "[encoded data removed]",
      "text/plain": [
       "<Figure size 432x288 with 1 Axes>"
      ]
     },
     "metadata": {},
     "output_type": "display_data"
    },
    {
     "data": {
      "text/plain": [
       "<Figure size 432x288 with 0 Axes>"
      ]
     },
     "metadata": {},
     "output_type": "display_data"
    }
   ],
   "source": [
    "precipitation_df[\"date\"] = pd.to_datetime(precipitation_df[\"date\"])\n",
    "\n",
    "# Use Pandas Plotting with Matplotlib to plot the data\n",
    "fig, ax = plt.subplots()\n",
    "#ax.bar(precipitation_df.index, precipitation_df[\"prcp\"], width=1.0, alpha=1.0)\n",
    "ax.bar(precipitation_df[\"date\"], precipitation_df[\"prcp\"], width=1.0, alpha=1.0)\n",
    "ax.xaxis_date()\n",
    "ax.xaxis.set_major_locator(mdates.MonthLocator(interval=1))\n",
    "ax.xaxis.set_major_formatter(mdates.DateFormatter('%Y-%m-%d'))\n",
    "ax.tick_params(labelrotation=90)\n",
    "ax.set(xlabel=\"Date\",ylabel=\"Inches\",Title=\"Precipitation Over Past Year\")\n",
    "plt.show()\n",
    "\n",
    "plt.savefig(\"Images/Precipitation_Over_Past_Year_barchart.png\")\n",
    "\n",
    "#plt.bar(precipitation_df.index.values, precipitation_df[\"prcp\"], width=1.0)\n",
    "#plt.title(\"Precipitation Over Past Year\")\n",
    "#plt.ylabel(\"Inches\")\n",
    "#plt.xlabel(\"Date\")\n"
   ]
  },
  {
   "cell_type": "code",
   "execution_count": 16,
   "metadata": {},
   "outputs": [
    {
     "data": {
      "text/html": [
       "<div>\n",
       "<style scoped>\n",
       "    .dataframe tbody tr th:only-of-type {\n",
       "        vertical-align: middle;\n",
       "    }\n",
       "\n",
       "    .dataframe tbody tr th {\n",
       "        vertical-align: top;\n",
       "    }\n",
       "\n",
       "    .dataframe thead th {\n",
       "        text-align: right;\n",
       "    }\n",
       "</style>\n",
       "<table border=\"1\" class=\"dataframe\">\n",
       "  <thead>\n",
       "    <tr style=\"text-align: right;\">\n",
       "      <th></th>\n",
       "      <th>prcp</th>\n",
       "    </tr>\n",
       "  </thead>\n",
       "  <tbody>\n",
       "    <tr>\n",
       "      <th>count</th>\n",
       "      <td>2021.000000</td>\n",
       "    </tr>\n",
       "    <tr>\n",
       "      <th>mean</th>\n",
       "      <td>0.177279</td>\n",
       "    </tr>\n",
       "    <tr>\n",
       "      <th>std</th>\n",
       "      <td>0.461190</td>\n",
       "    </tr>\n",
       "    <tr>\n",
       "      <th>min</th>\n",
       "      <td>0.000000</td>\n",
       "    </tr>\n",
       "    <tr>\n",
       "      <th>25%</th>\n",
       "      <td>0.000000</td>\n",
       "    </tr>\n",
       "    <tr>\n",
       "      <th>50%</th>\n",
       "      <td>0.020000</td>\n",
       "    </tr>\n",
       "    <tr>\n",
       "      <th>75%</th>\n",
       "      <td>0.130000</td>\n",
       "    </tr>\n",
       "    <tr>\n",
       "      <th>max</th>\n",
       "      <td>6.700000</td>\n",
       "    </tr>\n",
       "  </tbody>\n",
       "</table>\n",
       "</div>"
      ],
      "text/plain": [
       "              prcp\n",
       "count  2021.000000\n",
       "mean      0.177279\n",
       "std       0.461190\n",
       "min       0.000000\n",
       "25%       0.000000\n",
       "50%       0.020000\n",
       "75%       0.130000\n",
       "max       6.700000"
      ]
     },
     "execution_count": 16,
     "metadata": {},
     "output_type": "execute_result"
    }
   ],
   "source": [
    "# Use Pandas to calculate the summary statistics for the precipitation data\n",
    "precipitation_df.describe()"
   ]
  },
  {
   "cell_type": "code",
   "execution_count": 17,
   "metadata": {},
   "outputs": [
    {
     "data": {
      "text/html": [
       "<div>\n",
       "<style scoped>\n",
       "    .dataframe tbody tr th:only-of-type {\n",
       "        vertical-align: middle;\n",
       "    }\n",
       "\n",
       "    .dataframe tbody tr th {\n",
       "        vertical-align: top;\n",
       "    }\n",
       "\n",
       "    .dataframe thead th {\n",
       "        text-align: right;\n",
       "    }\n",
       "</style>\n",
       "<table border=\"1\" class=\"dataframe\">\n",
       "  <thead>\n",
       "    <tr style=\"text-align: right;\">\n",
       "      <th></th>\n",
       "      <th>station</th>\n",
       "      <th>name</th>\n",
       "    </tr>\n",
       "  </thead>\n",
       "  <tbody>\n",
       "    <tr>\n",
       "      <th>0</th>\n",
       "      <td>USC00519397</td>\n",
       "      <td>WAIKIKI 717.2, HI US</td>\n",
       "    </tr>\n",
       "    <tr>\n",
       "      <th>1</th>\n",
       "      <td>USC00513117</td>\n",
       "      <td>KANEOHE 838.1, HI US</td>\n",
       "    </tr>\n",
       "    <tr>\n",
       "      <th>2</th>\n",
       "      <td>USC00514830</td>\n",
       "      <td>KUALOA RANCH HEADQUARTERS 886.9, HI US</td>\n",
       "    </tr>\n",
       "    <tr>\n",
       "      <th>3</th>\n",
       "      <td>USC00517948</td>\n",
       "      <td>PEARL CITY, HI US</td>\n",
       "    </tr>\n",
       "    <tr>\n",
       "      <th>4</th>\n",
       "      <td>USC00518838</td>\n",
       "      <td>UPPER WAHIAWA 874.3, HI US</td>\n",
       "    </tr>\n",
       "    <tr>\n",
       "      <th>5</th>\n",
       "      <td>USC00519523</td>\n",
       "      <td>WAIMANALO EXPERIMENTAL FARM, HI US</td>\n",
       "    </tr>\n",
       "    <tr>\n",
       "      <th>6</th>\n",
       "      <td>USC00519281</td>\n",
       "      <td>WAIHEE 837.5, HI US</td>\n",
       "    </tr>\n",
       "    <tr>\n",
       "      <th>7</th>\n",
       "      <td>USC00511918</td>\n",
       "      <td>HONOLULU OBSERVATORY 702.2, HI US</td>\n",
       "    </tr>\n",
       "    <tr>\n",
       "      <th>8</th>\n",
       "      <td>USC00516128</td>\n",
       "      <td>MANOA LYON ARBO 785.2, HI US</td>\n",
       "    </tr>\n",
       "  </tbody>\n",
       "</table>\n",
       "</div>"
      ],
      "text/plain": [
       "       station                                    name\n",
       "0  USC00519397                    WAIKIKI 717.2, HI US\n",
       "1  USC00513117                    KANEOHE 838.1, HI US\n",
       "2  USC00514830  KUALOA RANCH HEADQUARTERS 886.9, HI US\n",
       "3  USC00517948                       PEARL CITY, HI US\n",
       "4  USC00518838              UPPER WAHIAWA 874.3, HI US\n",
       "5  USC00519523      WAIMANALO EXPERIMENTAL FARM, HI US\n",
       "6  USC00519281                     WAIHEE 837.5, HI US\n",
       "7  USC00511918       HONOLULU OBSERVATORY 702.2, HI US\n",
       "8  USC00516128            MANOA LYON ARBO 785.2, HI US"
      ]
     },
     "execution_count": 17,
     "metadata": {},
     "output_type": "execute_result"
    }
   ],
   "source": [
    "# Design a query to show how many stations are available in this dataset?\n",
    "stations_df = pd.DataFrame(session.query(Station.station, Station.name).all())\n",
    "stations_df"
   ]
  },
  {
   "cell_type": "code",
   "execution_count": 18,
   "metadata": {},
   "outputs": [
    {
     "data": {
      "text/html": [
       "<div>\n",
       "<style scoped>\n",
       "    .dataframe tbody tr th:only-of-type {\n",
       "        vertical-align: middle;\n",
       "    }\n",
       "\n",
       "    .dataframe tbody tr th {\n",
       "        vertical-align: top;\n",
       "    }\n",
       "\n",
       "    .dataframe thead th {\n",
       "        text-align: right;\n",
       "    }\n",
       "</style>\n",
       "<table border=\"1\" class=\"dataframe\">\n",
       "  <thead>\n",
       "    <tr style=\"text-align: right;\">\n",
       "      <th></th>\n",
       "      <th>prcp</th>\n",
       "      <th>date</th>\n",
       "    </tr>\n",
       "    <tr>\n",
       "      <th>station</th>\n",
       "      <th></th>\n",
       "      <th></th>\n",
       "    </tr>\n",
       "  </thead>\n",
       "  <tbody>\n",
       "    <tr>\n",
       "      <th>USC00519397</th>\n",
       "      <td>359</td>\n",
       "      <td>361</td>\n",
       "    </tr>\n",
       "    <tr>\n",
       "      <th>USC00519281</th>\n",
       "      <td>352</td>\n",
       "      <td>352</td>\n",
       "    </tr>\n",
       "    <tr>\n",
       "      <th>USC00513117</th>\n",
       "      <td>343</td>\n",
       "      <td>343</td>\n",
       "    </tr>\n",
       "    <tr>\n",
       "      <th>USC00516128</th>\n",
       "      <td>328</td>\n",
       "      <td>349</td>\n",
       "    </tr>\n",
       "    <tr>\n",
       "      <th>USC00519523</th>\n",
       "      <td>314</td>\n",
       "      <td>337</td>\n",
       "    </tr>\n",
       "    <tr>\n",
       "      <th>USC00514830</th>\n",
       "      <td>265</td>\n",
       "      <td>305</td>\n",
       "    </tr>\n",
       "    <tr>\n",
       "      <th>USC00517948</th>\n",
       "      <td>60</td>\n",
       "      <td>183</td>\n",
       "    </tr>\n",
       "  </tbody>\n",
       "</table>\n",
       "</div>"
      ],
      "text/plain": [
       "             prcp  date\n",
       "station                \n",
       "USC00519397   359   361\n",
       "USC00519281   352   352\n",
       "USC00513117   343   343\n",
       "USC00516128   328   349\n",
       "USC00519523   314   337\n",
       "USC00514830   265   305\n",
       "USC00517948    60   183"
      ]
     },
     "execution_count": 18,
     "metadata": {},
     "output_type": "execute_result"
    }
   ],
   "source": [
    "# What are the most active stations? (i.e. what stations have the most rows)?\n",
    "# List the stations and the counts in descending order.\n",
    "grouped = precipitation_df.groupby([\"station\"]).count()\n",
    "grouped_obj = grouped.sort_values([\"prcp\"], ascending=False)\n",
    "grouped_obj"
   ]
  },
  {
   "cell_type": "code",
   "execution_count": 19,
   "metadata": {},
   "outputs": [
    {
     "name": "stdout",
     "output_type": "stream",
     "text": [
      "\n",
      "\n",
      "The busiest station was USC00519397. It recorded a low temp of 56.0F, a high of 87.0F, with an average temp of 74.55F\n"
     ]
    }
   ],
   "source": [
    "# Using the station id from the previous query, calculate the lowest temperature recorded, \n",
    "# highest temperature recorded, and average temperature of the most active station?\n",
    "#busiest_station = \"USC00519397\"\n",
    "station_activity_df = pd.DataFrame(grouped_obj)\n",
    "\n",
    "#station_activity_df.head()\n",
    "\n",
    "station_activity_df.reset_index(inplace=True)\n",
    "\n",
    "busiest_station = station_activity_df.iloc[0]\n",
    "\n",
    "min_temp = session.query(func.min(Measurement.tobs)).filter(Measurement.station == busiest_station[\"station\"]).all()\n",
    "max_temp = session.query(func.max(Measurement.tobs)).filter(Measurement.station == busiest_station[\"station\"]).all()\n",
    "avg_temp = session.query(func.avg(Measurement.tobs)).filter(Measurement.station == busiest_station[\"station\"]).all()\n",
    "\n",
    "print('\\n')\n",
    "print(f\"The busiest station was {busiest_station['station']}. It recorded a low temp of {min_temp[0][0]}F, a high of {max_temp[0][0]}F, with an average temp of {round(avg_temp[0][0],2)}F\")"
   ]
  },
  {
   "cell_type": "code",
   "execution_count": 20,
   "metadata": {},
   "outputs": [
    {
     "data": {
      "text/html": [
       "<div>\n",
       "<style scoped>\n",
       "    .dataframe tbody tr th:only-of-type {\n",
       "        vertical-align: middle;\n",
       "    }\n",
       "\n",
       "    .dataframe tbody tr th {\n",
       "        vertical-align: top;\n",
       "    }\n",
       "\n",
       "    .dataframe thead th {\n",
       "        text-align: right;\n",
       "    }\n",
       "</style>\n",
       "<table border=\"1\" class=\"dataframe\">\n",
       "  <thead>\n",
       "    <tr style=\"text-align: right;\">\n",
       "      <th></th>\n",
       "      <th>prcp</th>\n",
       "      <th>date</th>\n",
       "      <th>station</th>\n",
       "    </tr>\n",
       "    <tr>\n",
       "      <th>date</th>\n",
       "      <th></th>\n",
       "      <th></th>\n",
       "      <th></th>\n",
       "    </tr>\n",
       "  </thead>\n",
       "  <tbody>\n",
       "    <tr>\n",
       "      <th>2016-08-23</th>\n",
       "      <td>0.00</td>\n",
       "      <td>2016-08-23</td>\n",
       "      <td>USC00519397</td>\n",
       "    </tr>\n",
       "    <tr>\n",
       "      <th>2016-08-24</th>\n",
       "      <td>0.08</td>\n",
       "      <td>2016-08-24</td>\n",
       "      <td>USC00519397</td>\n",
       "    </tr>\n",
       "    <tr>\n",
       "      <th>2016-08-25</th>\n",
       "      <td>0.08</td>\n",
       "      <td>2016-08-25</td>\n",
       "      <td>USC00519397</td>\n",
       "    </tr>\n",
       "    <tr>\n",
       "      <th>2016-08-26</th>\n",
       "      <td>0.00</td>\n",
       "      <td>2016-08-26</td>\n",
       "      <td>USC00519397</td>\n",
       "    </tr>\n",
       "    <tr>\n",
       "      <th>2016-08-27</th>\n",
       "      <td>0.00</td>\n",
       "      <td>2016-08-27</td>\n",
       "      <td>USC00519397</td>\n",
       "    </tr>\n",
       "  </tbody>\n",
       "</table>\n",
       "</div>"
      ],
      "text/plain": [
       "            prcp       date      station\n",
       "date                                    \n",
       "2016-08-23  0.00 2016-08-23  USC00519397\n",
       "2016-08-24  0.08 2016-08-24  USC00519397\n",
       "2016-08-25  0.08 2016-08-25  USC00519397\n",
       "2016-08-26  0.00 2016-08-26  USC00519397\n",
       "2016-08-27  0.00 2016-08-27  USC00519397"
      ]
     },
     "execution_count": 20,
     "metadata": {},
     "output_type": "execute_result"
    }
   ],
   "source": [
    "precipitation_df.head()"
   ]
  },
  {
   "cell_type": "code",
   "execution_count": 23,
   "metadata": {},
   "outputs": [
    {
     "data": {
      "text/html": [
       "<div>\n",
       "<style scoped>\n",
       "    .dataframe tbody tr th:only-of-type {\n",
       "        vertical-align: middle;\n",
       "    }\n",
       "\n",
       "    .dataframe tbody tr th {\n",
       "        vertical-align: top;\n",
       "    }\n",
       "\n",
       "    .dataframe thead th {\n",
       "        text-align: right;\n",
       "    }\n",
       "</style>\n",
       "<table border=\"1\" class=\"dataframe\">\n",
       "  <thead>\n",
       "    <tr style=\"text-align: right;\">\n",
       "      <th></th>\n",
       "      <th>prcp</th>\n",
       "      <th>date</th>\n",
       "      <th>station</th>\n",
       "    </tr>\n",
       "    <tr>\n",
       "      <th>date</th>\n",
       "      <th></th>\n",
       "      <th></th>\n",
       "      <th></th>\n",
       "    </tr>\n",
       "  </thead>\n",
       "  <tbody>\n",
       "    <tr>\n",
       "      <th>2016-08-23</th>\n",
       "      <td>0.00</td>\n",
       "      <td>2016-08-23</td>\n",
       "      <td>USC00519397</td>\n",
       "    </tr>\n",
       "    <tr>\n",
       "      <th>2016-08-24</th>\n",
       "      <td>0.08</td>\n",
       "      <td>2016-08-24</td>\n",
       "      <td>USC00519397</td>\n",
       "    </tr>\n",
       "    <tr>\n",
       "      <th>2016-08-25</th>\n",
       "      <td>0.08</td>\n",
       "      <td>2016-08-25</td>\n",
       "      <td>USC00519397</td>\n",
       "    </tr>\n",
       "    <tr>\n",
       "      <th>2016-08-26</th>\n",
       "      <td>0.00</td>\n",
       "      <td>2016-08-26</td>\n",
       "      <td>USC00519397</td>\n",
       "    </tr>\n",
       "    <tr>\n",
       "      <th>2016-08-27</th>\n",
       "      <td>0.00</td>\n",
       "      <td>2016-08-27</td>\n",
       "      <td>USC00519397</td>\n",
       "    </tr>\n",
       "    <tr>\n",
       "      <th>...</th>\n",
       "      <td>...</td>\n",
       "      <td>...</td>\n",
       "      <td>...</td>\n",
       "    </tr>\n",
       "    <tr>\n",
       "      <th>2017-08-17</th>\n",
       "      <td>0.13</td>\n",
       "      <td>2017-08-17</td>\n",
       "      <td>USC00516128</td>\n",
       "    </tr>\n",
       "    <tr>\n",
       "      <th>2017-08-19</th>\n",
       "      <td>0.09</td>\n",
       "      <td>2017-08-19</td>\n",
       "      <td>USC00516128</td>\n",
       "    </tr>\n",
       "    <tr>\n",
       "      <th>2017-08-21</th>\n",
       "      <td>0.56</td>\n",
       "      <td>2017-08-21</td>\n",
       "      <td>USC00516128</td>\n",
       "    </tr>\n",
       "    <tr>\n",
       "      <th>2017-08-22</th>\n",
       "      <td>0.50</td>\n",
       "      <td>2017-08-22</td>\n",
       "      <td>USC00516128</td>\n",
       "    </tr>\n",
       "    <tr>\n",
       "      <th>2017-08-23</th>\n",
       "      <td>0.45</td>\n",
       "      <td>2017-08-23</td>\n",
       "      <td>USC00516128</td>\n",
       "    </tr>\n",
       "  </tbody>\n",
       "</table>\n",
       "<p>2021 rows × 3 columns</p>\n",
       "</div>"
      ],
      "text/plain": [
       "            prcp       date      station\n",
       "date                                    \n",
       "2016-08-23  0.00 2016-08-23  USC00519397\n",
       "2016-08-24  0.08 2016-08-24  USC00519397\n",
       "2016-08-25  0.08 2016-08-25  USC00519397\n",
       "2016-08-26  0.00 2016-08-26  USC00519397\n",
       "2016-08-27  0.00 2016-08-27  USC00519397\n",
       "...          ...        ...          ...\n",
       "2017-08-17  0.13 2017-08-17  USC00516128\n",
       "2017-08-19  0.09 2017-08-19  USC00516128\n",
       "2017-08-21  0.56 2017-08-21  USC00516128\n",
       "2017-08-22  0.50 2017-08-22  USC00516128\n",
       "2017-08-23  0.45 2017-08-23  USC00516128\n",
       "\n",
       "[2021 rows x 3 columns]"
      ]
     },
     "execution_count": 23,
     "metadata": {},
     "output_type": "execute_result"
    }
   ],
   "source": [
    "precipitation_df = precipitation_df.dropna(subset=[\"prcp\"])\n",
    "precipitation_df"
   ]
  },
  {
   "cell_type": "code",
   "execution_count": 37,
   "metadata": {},
   "outputs": [
    {
     "data": {
      "text/plain": [
       "[('USC00519397', 81.0, '2016-08-23'),\n",
       " ('USC00519397', 79.0, '2016-08-24'),\n",
       " ('USC00519397', 80.0, '2016-08-25'),\n",
       " ('USC00519397', 79.0, '2016-08-26'),\n",
       " ('USC00519397', 77.0, '2016-08-27'),\n",
       " ('USC00519397', 78.0, '2016-08-28'),\n",
       " ('USC00519397', 78.0, '2016-08-29'),\n",
       " ('USC00519397', 79.0, '2016-08-30'),\n",
       " ('USC00519397', 80.0, '2016-08-31'),\n",
       " ('USC00519397', 81.0, '2016-09-01'),\n",
       " ('USC00519397', 80.0, '2016-09-02'),\n",
       " ('USC00519397', 79.0, '2016-09-03'),\n",
       " ('USC00519397', 75.0, '2016-09-04'),\n",
       " ('USC00519397', 79.0, '2016-09-05'),\n",
       " ('USC00519397', 76.0, '2016-09-06'),\n",
       " ('USC00519397', 76.0, '2016-09-07'),\n",
       " ('USC00519397', 80.0, '2016-09-08'),\n",
       " ('USC00519397', 79.0, '2016-09-09'),\n",
       " ('USC00519397', 78.0, '2016-09-10'),\n",
       " ('USC00519397', 76.0, '2016-09-11'),\n",
       " ('USC00519397', 78.0, '2016-09-12'),\n",
       " ('USC00519397', 78.0, '2016-09-13'),\n",
       " ('USC00519397', 75.0, '2016-09-14'),\n",
       " ('USC00519397', 79.0, '2016-09-15'),\n",
       " ('USC00519397', 80.0, '2016-09-16'),\n",
       " ('USC00519397', 79.0, '2016-09-17'),\n",
       " ('USC00519397', 81.0, '2016-09-18'),\n",
       " ('USC00519397', 77.0, '2016-09-19'),\n",
       " ('USC00519397', 77.0, '2016-09-20'),\n",
       " ('USC00519397', 78.0, '2016-09-21'),\n",
       " ('USC00519397', 76.0, '2016-09-22'),\n",
       " ('USC00519397', 82.0, '2016-09-23'),\n",
       " ('USC00519397', 81.0, '2016-09-24'),\n",
       " ('USC00519397', 78.0, '2016-09-25'),\n",
       " ('USC00519397', 80.0, '2016-09-26'),\n",
       " ('USC00519397', 80.0, '2016-09-27'),\n",
       " ('USC00519397', 79.0, '2016-09-28'),\n",
       " ('USC00519397', 80.0, '2016-09-29'),\n",
       " ('USC00519397', 80.0, '2016-09-30'),\n",
       " ('USC00519397', 80.0, '2016-10-01'),\n",
       " ('USC00519397', 79.0, '2016-10-02'),\n",
       " ('USC00519397', 79.0, '2016-10-03'),\n",
       " ('USC00519397', 79.0, '2016-10-04'),\n",
       " ('USC00519397', 80.0, '2016-10-05'),\n",
       " ('USC00519397', 80.0, '2016-10-06'),\n",
       " ('USC00519397', 79.0, '2016-10-07'),\n",
       " ('USC00519397', 78.0, '2016-10-08'),\n",
       " ('USC00519397', 76.0, '2016-10-09'),\n",
       " ('USC00519397', 75.0, '2016-10-10'),\n",
       " ('USC00519397', 80.0, '2016-10-11'),\n",
       " ('USC00519397', 80.0, '2016-10-12'),\n",
       " ('USC00519397', 79.0, '2016-10-13'),\n",
       " ('USC00519397', 80.0, '2016-10-14'),\n",
       " ('USC00519397', 79.0, '2016-10-15'),\n",
       " ('USC00519397', 78.0, '2016-10-16'),\n",
       " ('USC00519397', 78.0, '2016-10-17'),\n",
       " ('USC00519397', 80.0, '2016-10-18'),\n",
       " ('USC00519397', 81.0, '2016-10-19'),\n",
       " ('USC00519397', 79.0, '2016-10-20'),\n",
       " ('USC00519397', 77.0, '2016-10-21'),\n",
       " ('USC00519397', 79.0, '2016-10-22'),\n",
       " ('USC00519397', 78.0, '2016-10-23'),\n",
       " ('USC00519397', 77.0, '2016-10-24'),\n",
       " ('USC00519397', 77.0, '2016-10-25'),\n",
       " ('USC00519397', 78.0, '2016-10-26'),\n",
       " ('USC00519397', 77.0, '2016-10-27'),\n",
       " ('USC00519397', 78.0, '2016-10-28'),\n",
       " ('USC00519397', 77.0, '2016-10-29'),\n",
       " ('USC00519397', 76.0, '2016-10-30'),\n",
       " ('USC00519397', 77.0, '2016-10-31'),\n",
       " ('USC00519397', 77.0, '2016-11-01'),\n",
       " ('USC00519397', 77.0, '2016-11-02'),\n",
       " ('USC00519397', 77.0, '2016-11-03'),\n",
       " ('USC00519397', 77.0, '2016-11-04'),\n",
       " ('USC00519397', 76.0, '2016-11-05'),\n",
       " ('USC00519397', 75.0, '2016-11-06'),\n",
       " ('USC00519397', 71.0, '2016-11-07'),\n",
       " ('USC00519397', 71.0, '2016-11-08'),\n",
       " ('USC00519397', 71.0, '2016-11-09'),\n",
       " ('USC00519397', 71.0, '2016-11-10'),\n",
       " ('USC00519397', 72.0, '2016-11-11'),\n",
       " ('USC00519397', 71.0, '2016-11-12'),\n",
       " ('USC00519397', 72.0, '2016-11-13'),\n",
       " ('USC00519397', 77.0, '2016-11-14'),\n",
       " ('USC00519397', 77.0, '2016-11-15'),\n",
       " ('USC00519397', 77.0, '2016-11-16'),\n",
       " ('USC00519397', 77.0, '2016-11-17'),\n",
       " ('USC00519397', 77.0, '2016-11-18'),\n",
       " ('USC00519397', 75.0, '2016-11-19'),\n",
       " ('USC00519397', 76.0, '2016-11-20'),\n",
       " ('USC00519397', 76.0, '2016-11-21'),\n",
       " ('USC00519397', 75.0, '2016-11-22'),\n",
       " ('USC00519397', 72.0, '2016-11-23'),\n",
       " ('USC00519397', 74.0, '2016-11-24'),\n",
       " ('USC00519397', 75.0, '2016-11-25'),\n",
       " ('USC00519397', 73.0, '2016-11-26'),\n",
       " ('USC00519397', 76.0, '2016-11-27'),\n",
       " ('USC00519397', 75.0, '2016-11-28'),\n",
       " ('USC00519397', 68.0, '2016-11-29'),\n",
       " ('USC00519397', 75.0, '2016-11-30'),\n",
       " ('USC00519397', 75.0, '2016-12-01'),\n",
       " ('USC00519397', 72.0, '2016-12-02'),\n",
       " ('USC00519397', 69.0, '2016-12-03'),\n",
       " ('USC00519397', 71.0, '2016-12-04'),\n",
       " ('USC00519397', 68.0, '2016-12-05'),\n",
       " ('USC00519397', 67.0, '2016-12-06'),\n",
       " ('USC00519397', 69.0, '2016-12-07'),\n",
       " ('USC00519397', 73.0, '2016-12-08'),\n",
       " ('USC00519397', 70.0, '2016-12-09'),\n",
       " ('USC00519397', 70.0, '2016-12-10'),\n",
       " ('USC00519397', 70.0, '2016-12-11'),\n",
       " ('USC00519397', 66.0, '2016-12-12'),\n",
       " ('USC00519397', 67.0, '2016-12-13'),\n",
       " ('USC00519397', 70.0, '2016-12-14'),\n",
       " ('USC00519397', 66.0, '2016-12-15'),\n",
       " ('USC00519397', 62.0, '2016-12-16'),\n",
       " ('USC00519397', 71.0, '2016-12-17'),\n",
       " ('USC00519397', 73.0, '2016-12-18'),\n",
       " ('USC00519397', 69.0, '2016-12-19'),\n",
       " ('USC00519397', 77.0, '2016-12-20'),\n",
       " ('USC00519397', 74.0, '2016-12-21'),\n",
       " ('USC00519397', 71.0, '2016-12-22'),\n",
       " ('USC00519397', 72.0, '2016-12-23'),\n",
       " ('USC00519397', 74.0, '2016-12-24'),\n",
       " ('USC00519397', 74.0, '2016-12-25'),\n",
       " ('USC00519397', 74.0, '2016-12-26'),\n",
       " ('USC00519397', 74.0, '2016-12-27'),\n",
       " ('USC00519397', 71.0, '2016-12-28'),\n",
       " ('USC00519397', 73.0, '2016-12-29'),\n",
       " ('USC00519397', 69.0, '2016-12-30'),\n",
       " ('USC00519397', 66.0, '2016-12-31'),\n",
       " ('USC00519397', 62.0, '2017-01-01'),\n",
       " ('USC00519397', 66.0, '2017-01-02'),\n",
       " ('USC00519397', 63.0, '2017-01-03'),\n",
       " ('USC00519397', 62.0, '2017-01-04'),\n",
       " ('USC00519397', 63.0, '2017-01-05'),\n",
       " ('USC00519397', 64.0, '2017-01-06'),\n",
       " ('USC00519397', 66.0, '2017-01-07'),\n",
       " ('USC00519397', 60.0, '2017-01-08'),\n",
       " ('USC00519397', 64.0, '2017-01-09'),\n",
       " ('USC00519397', 63.0, '2017-01-10'),\n",
       " ('USC00519397', 78.0, '2017-01-11'),\n",
       " ('USC00519397', 67.0, '2017-01-12'),\n",
       " ('USC00519397', 67.0, '2017-01-13'),\n",
       " ('USC00519397', 65.0, '2017-01-14'),\n",
       " ('USC00519397', 66.0, '2017-01-15'),\n",
       " ('USC00519397', 67.0, '2017-01-16'),\n",
       " ('USC00519397', 66.0, '2017-01-17'),\n",
       " ('USC00519397', 72.0, '2017-01-18'),\n",
       " ('USC00519397', 73.0, '2017-01-19'),\n",
       " ('USC00519397', 71.0, '2017-01-20'),\n",
       " ('USC00519397', 72.0, '2017-01-21'),\n",
       " ('USC00519397', 72.0, '2017-01-22'),\n",
       " ('USC00519397', 72.0, '2017-01-23'),\n",
       " ('USC00519397', 69.0, '2017-01-24'),\n",
       " ('USC00519397', 72.0, '2017-01-25'),\n",
       " ('USC00519397', 71.0, '2017-01-26'),\n",
       " ('USC00519397', 65.0, '2017-01-27'),\n",
       " ('USC00519397', 64.0, '2017-01-28'),\n",
       " ('USC00519397', 67.0, '2017-01-29'),\n",
       " ('USC00519397', 67.0, '2017-01-30'),\n",
       " ('USC00519397', 68.0, '2017-01-31'),\n",
       " ('USC00519397', 70.0, '2017-02-01'),\n",
       " ('USC00519397', 61.0, '2017-02-02'),\n",
       " ('USC00519397', 65.0, '2017-02-03'),\n",
       " ('USC00519397', 72.0, '2017-02-04'),\n",
       " ('USC00519397', 73.0, '2017-02-05'),\n",
       " ('USC00519397', 76.0, '2017-02-06'),\n",
       " ('USC00519397', 64.0, '2017-02-07'),\n",
       " ('USC00519397', 62.0, '2017-02-08'),\n",
       " ('USC00519397', 61.0, '2017-02-09'),\n",
       " ('USC00519397', 71.0, '2017-02-10'),\n",
       " ('USC00519397', 69.0, '2017-02-11'),\n",
       " ('USC00519397', 68.0, '2017-02-12'),\n",
       " ('USC00519397', 74.0, '2017-02-13'),\n",
       " ('USC00519397', 75.0, '2017-02-14'),\n",
       " ('USC00519397', 75.0, '2017-02-15'),\n",
       " ('USC00519397', 71.0, '2017-02-16'),\n",
       " ('USC00519397', 71.0, '2017-02-17'),\n",
       " ('USC00519397', 68.0, '2017-02-18'),\n",
       " ('USC00519397', 69.0, '2017-02-19'),\n",
       " ('USC00519397', 71.0, '2017-02-20'),\n",
       " ('USC00519397', 70.0, '2017-02-21'),\n",
       " ('USC00519397', 72.0, '2017-02-22'),\n",
       " ('USC00519397', 74.0, '2017-02-23'),\n",
       " ('USC00519397', 70.0, '2017-02-24'),\n",
       " ('USC00519397', 64.0, '2017-02-25'),\n",
       " ('USC00519397', 65.0, '2017-02-26'),\n",
       " ('USC00519397', 72.0, '2017-02-27'),\n",
       " ('USC00519397', 74.0, '2017-02-28'),\n",
       " ('USC00519397', 66.0, '2017-03-01'),\n",
       " ('USC00519397', 73.0, '2017-03-02'),\n",
       " ('USC00519397', 69.0, '2017-03-03'),\n",
       " ('USC00519397', 74.0, '2017-03-04'),\n",
       " ('USC00519397', 71.0, '2017-03-05'),\n",
       " ('USC00519397', 69.0, '2017-03-06'),\n",
       " ('USC00519397', 68.0, '2017-03-07'),\n",
       " ('USC00519397', 71.0, '2017-03-08'),\n",
       " ('USC00519397', 72.0, '2017-03-09'),\n",
       " ('USC00519397', 68.0, '2017-03-10'),\n",
       " ('USC00519397', 71.0, '2017-03-11'),\n",
       " ('USC00519397', 74.0, '2017-03-12'),\n",
       " ('USC00519397', 71.0, '2017-03-13'),\n",
       " ('USC00519397', 71.0, '2017-03-14'),\n",
       " ('USC00519397', 71.0, '2017-03-15'),\n",
       " ('USC00519397', 70.0, '2017-03-16'),\n",
       " ('USC00519397', 72.0, '2017-03-17'),\n",
       " ('USC00519397', 69.0, '2017-03-18'),\n",
       " ('USC00519397', 73.0, '2017-03-19'),\n",
       " ('USC00519397', 75.0, '2017-03-20'),\n",
       " ('USC00519397', 75.0, '2017-03-21'),\n",
       " ('USC00519397', 74.0, '2017-03-22'),\n",
       " ('USC00519397', 70.0, '2017-03-23'),\n",
       " ('USC00519397', 73.0, '2017-03-24'),\n",
       " ('USC00519397', 76.0, '2017-03-25'),\n",
       " ('USC00519397', 76.0, '2017-03-26'),\n",
       " ('USC00519397', 75.0, '2017-03-27'),\n",
       " ('USC00519397', 77.0, '2017-03-28'),\n",
       " ('USC00519397', 76.0, '2017-03-29'),\n",
       " ('USC00519397', 77.0, '2017-03-30'),\n",
       " ('USC00519397', 76.0, '2017-03-31'),\n",
       " ('USC00519397', 76.0, '2017-04-01'),\n",
       " ('USC00519397', 76.0, '2017-04-02'),\n",
       " ('USC00519397', 77.0, '2017-04-03'),\n",
       " ('USC00519397', 76.0, '2017-04-04'),\n",
       " ('USC00519397', 78.0, '2017-04-05'),\n",
       " ('USC00519397', 77.0, '2017-04-06'),\n",
       " ('USC00519397', 77.0, '2017-04-07'),\n",
       " ('USC00519397', 77.0, '2017-04-08'),\n",
       " ('USC00519397', 72.0, '2017-04-09'),\n",
       " ('USC00519397', 75.0, '2017-04-10'),\n",
       " ('USC00519397', 79.0, '2017-04-11'),\n",
       " ('USC00519397', 78.0, '2017-04-12'),\n",
       " ('USC00519397', 77.0, '2017-04-13'),\n",
       " ('USC00519397', 75.0, '2017-04-14'),\n",
       " ('USC00519397', 73.0, '2017-04-15'),\n",
       " ('USC00519397', 74.0, '2017-04-16'),\n",
       " ('USC00519397', 74.0, '2017-04-17'),\n",
       " ('USC00519397', 75.0, '2017-04-18'),\n",
       " ('USC00519397', 74.0, '2017-04-19'),\n",
       " ('USC00519397', 78.0, '2017-04-20'),\n",
       " ('USC00519397', 73.0, '2017-04-21'),\n",
       " ('USC00519397', 76.0, '2017-04-22'),\n",
       " ('USC00519397', 77.0, '2017-04-23'),\n",
       " ('USC00519397', 77.0, '2017-04-24'),\n",
       " ('USC00519397', 77.0, '2017-04-25'),\n",
       " ('USC00519397', 77.0, '2017-04-26'),\n",
       " ('USC00519397', 78.0, '2017-04-27'),\n",
       " ('USC00519397', 76.0, '2017-04-28'),\n",
       " ('USC00519397', 72.0, '2017-04-29'),\n",
       " ('USC00519397', 63.0, '2017-04-30'),\n",
       " ('USC00519397', 75.0, '2017-05-01'),\n",
       " ('USC00519397', 78.0, '2017-05-02'),\n",
       " ('USC00519397', 78.0, '2017-05-03'),\n",
       " ('USC00519397', 78.0, '2017-05-04'),\n",
       " ('USC00519397', 79.0, '2017-05-05'),\n",
       " ('USC00519397', 79.0, '2017-05-06'),\n",
       " ('USC00519397', 79.0, '2017-05-07'),\n",
       " ('USC00519397', 77.0, '2017-05-08'),\n",
       " ('USC00519397', 78.0, '2017-05-10'),\n",
       " ('USC00519397', 78.0, '2017-05-11'),\n",
       " ('USC00519397', 79.0, '2017-05-12'),\n",
       " ('USC00519397', 79.0, '2017-05-13'),\n",
       " ('USC00519397', 77.0, '2017-05-14'),\n",
       " ('USC00519397', 78.0, '2017-05-15'),\n",
       " ('USC00519397', 78.0, '2017-05-16'),\n",
       " ('USC00519397', 78.0, '2017-05-17'),\n",
       " ('USC00519397', 73.0, '2017-05-18'),\n",
       " ('USC00519397', 76.0, '2017-05-19'),\n",
       " ('USC00519397', 78.0, '2017-05-20'),\n",
       " ('USC00519397', 76.0, '2017-05-21'),\n",
       " ('USC00519397', 77.0, '2017-05-22'),\n",
       " ('USC00519397', 87.0, '2017-05-23'),\n",
       " ('USC00519397', 77.0, '2017-05-24'),\n",
       " ('USC00519397', 77.0, '2017-05-25'),\n",
       " ('USC00519397', 74.0, '2017-05-27'),\n",
       " ('USC00519397', 76.0, '2017-05-28'),\n",
       " ('USC00519397', 75.0, '2017-05-29'),\n",
       " ('USC00519397', 76.0, '2017-05-30'),\n",
       " ('USC00519397', 79.0, '2017-05-31'),\n",
       " ('USC00519397', 79.0, '2017-06-01'),\n",
       " ('USC00519397', 79.0, '2017-06-02'),\n",
       " ('USC00519397', 79.0, '2017-06-03'),\n",
       " ('USC00519397', 79.0, '2017-06-04'),\n",
       " ('USC00519397', 80.0, '2017-06-05'),\n",
       " ('USC00519397', 79.0, '2017-06-06'),\n",
       " ('USC00519397', 79.0, '2017-06-07'),\n",
       " ('USC00519397', 80.0, '2017-06-08'),\n",
       " ('USC00519397', 80.0, '2017-06-09'),\n",
       " ('USC00519397', 77.0, '2017-06-10'),\n",
       " ('USC00519397', 79.0, '2017-06-11'),\n",
       " ('USC00519397', 83.0, '2017-06-12'),\n",
       " ('USC00519397', 80.0, '2017-06-13'),\n",
       " ('USC00519397', 80.0, '2017-06-14'),\n",
       " ('USC00519397', 78.0, '2017-06-15'),\n",
       " ('USC00519397', 79.0, '2017-06-16'),\n",
       " ('USC00519397', 80.0, '2017-06-17'),\n",
       " ('USC00519397', 77.0, '2017-06-18'),\n",
       " ('USC00519397', 80.0, '2017-06-19'),\n",
       " ('USC00519397', 78.0, '2017-06-20'),\n",
       " ('USC00519397', 79.0, '2017-06-21'),\n",
       " ('USC00519397', 80.0, '2017-06-22'),\n",
       " ('USC00519397', 78.0, '2017-06-23'),\n",
       " ('USC00519397', 80.0, '2017-06-24'),\n",
       " ('USC00519397', 80.0, '2017-06-25'),\n",
       " ('USC00519397', 81.0, '2017-06-26'),\n",
       " ('USC00519397', 80.0, '2017-06-27'),\n",
       " ('USC00519397', 79.0, '2017-06-28'),\n",
       " ('USC00519397', 79.0, '2017-06-29'),\n",
       " ('USC00519397', 75.0, '2017-06-30'),\n",
       " ('USC00519397', 80.0, '2017-07-01'),\n",
       " ('USC00519397', 80.0, '2017-07-02'),\n",
       " ('USC00519397', 78.0, '2017-07-03'),\n",
       " ('USC00519397', 80.0, '2017-07-04'),\n",
       " ('USC00519397', 80.0, '2017-07-05'),\n",
       " ('USC00519397', 81.0, '2017-07-06'),\n",
       " ('USC00519397', 79.0, '2017-07-07'),\n",
       " ('USC00519397', 80.0, '2017-07-08'),\n",
       " ('USC00519397', 80.0, '2017-07-09'),\n",
       " ('USC00519397', 80.0, '2017-07-10'),\n",
       " ('USC00519397', 78.0, '2017-07-11'),\n",
       " ('USC00519397', 81.0, '2017-07-12'),\n",
       " ('USC00519397', 79.0, '2017-07-13'),\n",
       " ('USC00519397', 81.0, '2017-07-14'),\n",
       " ('USC00519397', 80.0, '2017-07-15'),\n",
       " ('USC00519397', 78.0, '2017-07-16'),\n",
       " ('USC00519397', 80.0, '2017-07-17'),\n",
       " ('USC00519397', 80.0, '2017-07-18'),\n",
       " ('USC00519397', 80.0, '2017-07-20'),\n",
       " ('USC00519397', 80.0, '2017-07-21'),\n",
       " ('USC00519397', 81.0, '2017-07-22'),\n",
       " ('USC00519397', 81.0, '2017-07-23'),\n",
       " ('USC00519397', 78.0, '2017-07-24'),\n",
       " ('USC00519397', 80.0, '2017-07-25'),\n",
       " ('USC00519397', 82.0, '2017-07-26'),\n",
       " ('USC00519397', 79.0, '2017-07-27'),\n",
       " ('USC00519397', 81.0, '2017-07-28'),\n",
       " ('USC00519397', 81.0, '2017-07-29'),\n",
       " ('USC00519397', 81.0, '2017-07-30'),\n",
       " ('USC00519397', 80.0, '2017-07-31'),\n",
       " ('USC00519397', 77.0, '2017-08-01'),\n",
       " ('USC00519397', 73.0, '2017-08-02'),\n",
       " ('USC00519397', 79.0, '2017-08-03'),\n",
       " ('USC00519397', 80.0, '2017-08-04'),\n",
       " ('USC00519397', 81.0, '2017-08-05'),\n",
       " ('USC00519397', 80.0, '2017-08-06'),\n",
       " ('USC00519397', 80.0, '2017-08-07'),\n",
       " ('USC00519397', 80.0, '2017-08-08'),\n",
       " ('USC00519397', 80.0, '2017-08-09'),\n",
       " ('USC00519397', 81.0, '2017-08-10'),\n",
       " ('USC00519397', 78.0, '2017-08-11'),\n",
       " ('USC00519397', 80.0, '2017-08-12'),\n",
       " ('USC00519397', 81.0, '2017-08-13'),\n",
       " ('USC00519397', 79.0, '2017-08-14'),\n",
       " ('USC00519397', 78.0, '2017-08-15'),\n",
       " ('USC00519397', 80.0, '2017-08-18'),\n",
       " ('USC00519397', 79.0, '2017-08-19'),\n",
       " ('USC00519397', 81.0, '2017-08-20'),\n",
       " ('USC00519397', 81.0, '2017-08-21'),\n",
       " ('USC00519397', 82.0, '2017-08-22'),\n",
       " ('USC00519397', 81.0, '2017-08-23')]"
      ]
     },
     "execution_count": 37,
     "metadata": {},
     "output_type": "execute_result"
    }
   ],
   "source": [
    "# Choose the station with the highest number of temperature observations.\n",
    "# Query the last 12 months of temperature observation data for this station and plot the results as a histogram\n",
    "#precipitation_df.drop([\"date\"])\n",
    "#precipitation_df.reset_index(inplace=True)\n",
    "\n",
    "busiest_station_data_df = precipitation_df[precipitation_df[\"station\"] == busiest_station[0]]\n",
    "busiest_station_data_df\n",
    "\n",
    "data = session.query(Measurement.station, Measurement.tobs, Measurement.date).filter(Measurement.date >= year_ago_dt[0].date()).filter(Measurement.station == busiest_station[0]).all()\n",
    "#data = session.query(Measurement.station, Measurement.tobs, Measurement.date).filter(Measurement.date >= year_ago_dt[0].date()).filter(Measurement.station == 'USC00519397').all()\n",
    "data"
   ]
  },
  {
   "cell_type": "code",
   "execution_count": 44,
   "metadata": {},
   "outputs": [
    {
     "data": {
      "image/png": "[encoded data removed]",
      "text/plain": [
       "<Figure size 432x288 with 1 Axes>"
      ]
     },
     "metadata": {},
     "output_type": "display_data"
    },
    {
     "data": {
      "text/plain": [
       "<Figure size 432x288 with 0 Axes>"
      ]
     },
     "metadata": {},
     "output_type": "display_data"
    }
   ],
   "source": [
    "temp_df = pd.DataFrame(data)\n",
    "\n",
    "fig, ax = plt.subplots()\n",
    "temp_df.plot.hist(ax=ax, bins=12)\n",
    "\n",
    "ax.set(xlabel=\"Temperature (F)\",\n",
    "       ylabel=\"Frequency\",\n",
    "       title=\"Temperature Frequency\")\n",
    "\n",
    "plt.savefig(\"Images/busiest_station_histogram.png\")\n",
    "\n",
    "plt.show()\n",
    "plt.tight_layout()"
   ]
  },
  {
   "cell_type": "markdown",
   "metadata": {},
   "source": [
    "## Bonus Challenge Assignment"
   ]
  },
  {
   "cell_type": "code",
   "execution_count": null,
   "metadata": {},
   "outputs": [],
   "source": [
    "# This function called `calc_temps` will accept start date and end date in the format '%Y-%m-%d' \n",
    "# and return the minimum, average, and maximum temperatures for that range of dates\n",
    "def calc_temps(start_date, end_date):\n",
    "    \"\"\"TMIN, TAVG, and TMAX for a list of dates.\n",
    "    \n",
    "    Args:\n",
    "        start_date (string): A date string in the format %Y-%m-%d\n",
    "        end_date (string): A date string in the format %Y-%m-%d\n",
    "        \n",
    "    Returns:\n",
    "        TMIN, TAVE, and TMAX\n",
    "    \"\"\"\n",
    "    \n",
    "    return session.query(func.min(Measurement.tobs), func.avg(Measurement.tobs), func.max(Measurement.tobs)).\\\n",
    "        filter(Measurement.date >= start_date).filter(Measurement.date <= end_date).all()\n",
    "\n",
    "# function usage example\n",
    "print(calc_temps('2012-02-28', '2012-03-05'))"
   ]
  },
  {
   "cell_type": "code",
   "execution_count": null,
   "metadata": {},
   "outputs": [],
   "source": [
    "# Use your previous function `calc_temps` to calculate the tmin, tavg, and tmax \n",
    "# for your trip using the previous year's data for those same dates.\n"
   ]
  },
  {
   "cell_type": "code",
   "execution_count": null,
   "metadata": {},
   "outputs": [],
   "source": [
    "# Plot the results from your previous query as a bar chart. \n",
    "# Use \"Trip Avg Temp\" as your Title\n",
    "# Use the average temperature for the y value\n",
    "# Use the peak-to-peak (tmax-tmin) value as the y error bar (yerr)\n"
   ]
  },
  {
   "cell_type": "code",
   "execution_count": null,
   "metadata": {},
   "outputs": [],
   "source": [
    "# Calculate the total amount of rainfall per weather station for your trip dates using the previous year's matching dates.\n",
    "# Sort this in descending order by precipitation amount and list the station, name, latitude, longitude, and elevation\n",
    "\n"
   ]
  },
  {
   "cell_type": "code",
   "execution_count": null,
   "metadata": {},
   "outputs": [],
   "source": [
    "# Create a query that will calculate the daily normals \n",
    "# (i.e. the averages for tmin, tmax, and tavg for all historic data matching a specific month and day)\n",
    "\n",
    "def daily_normals(date):\n",
    "    \"\"\"Daily Normals.\n",
    "    \n",
    "    Args:\n",
    "        date (str): A date string in the format '%m-%d'\n",
    "        \n",
    "    Returns:\n",
    "        A list of tuples containing the daily normals, tmin, tavg, and tmax\n",
    "    \n",
    "    \"\"\"\n",
    "    \n",
    "    sel = [func.min(Measurement.tobs), func.avg(Measurement.tobs), func.max(Measurement.tobs)]\n",
    "    return session.query(*sel).filter(func.strftime(\"%m-%d\", Measurement.date) == date).all()\n",
    "    \n",
    "daily_normals(\"01-01\")"
   ]
  },
  {
   "cell_type": "code",
   "execution_count": null,
   "metadata": {},
   "outputs": [],
   "source": [
    "# calculate the daily normals for your trip\n",
    "# push each tuple of calculations into a list called `normals`\n",
    "\n",
    "# Set the start and end date of the trip\n",
    "\n",
    "# Use the start and end date to create a range of dates\n",
    "\n",
    "# Stip off the year and save a list of %m-%d strings\n",
    "\n",
    "# Loop through the list of %m-%d strings and calculate the normals for each date\n"
   ]
  },
  {
   "cell_type": "code",
   "execution_count": null,
   "metadata": {},
   "outputs": [],
   "source": [
    "# Load the previous query results into a Pandas DataFrame and add the `trip_dates` range as the `date` index\n"
   ]
  },
  {
   "cell_type": "code",
   "execution_count": null,
   "metadata": {},
   "outputs": [],
   "source": [
    "# Plot the daily normals as an area plot with `stacked=False`\n"
   ]
  }
 ],
 "metadata": {
  "kernel_info": {
   "name": "python3"
  },
  "kernelspec": {
   "display_name": "Python 3",
   "language": "python",
   "name": "python3"
  },
  "language_info": {
   "codemirror_mode": {
    "name": "ipython",
    "version": 3
   },
   "file_extension": ".py",
   "mimetype": "text/x-python",
   "name": "python",
   "nbconvert_exporter": "python",
   "pygments_lexer": "ipython3",
   "version": "3.6.10"
  },
  "nteract": {
   "version": "0.12.3"
  },
  "varInspector": {
   "cols": {
    "lenName": 16,
    "lenType": 16,
    "lenVar": 40
   },
   "kernels_config": {
    "python": {
     "delete_cmd_postfix": "",
     "delete_cmd_prefix": "del ",
     "library": "var_list.py",
     "varRefreshCmd": "print(var_dic_list())"
    },
    "r": {
     "delete_cmd_postfix": ") ",
     "delete_cmd_prefix": "rm(",
     "library": "var_list.r",
     "varRefreshCmd": "cat(var_dic_list()) "
    }
   },
   "types_to_exclude": [
    "module",
    "function",
    "builtin_function_or_method",
    "instance",
    "_Feature"
   ],
   "window_display": false
  }
 },
 "nbformat": 4,
 "nbformat_minor": 2
}
